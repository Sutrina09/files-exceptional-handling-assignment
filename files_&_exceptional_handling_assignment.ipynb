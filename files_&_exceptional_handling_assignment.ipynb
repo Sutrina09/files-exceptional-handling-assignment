{
  "nbformat": 4,
  "nbformat_minor": 0,
  "metadata": {
    "colab": {
      "provenance": []
    },
    "kernelspec": {
      "name": "python3",
      "display_name": "Python 3"
    },
    "language_info": {
      "name": "python"
    }
  },
  "cells": [
    {
      "cell_type": "markdown",
      "source": [
        "#Files, exceptional handling,logging and memory management"
      ],
      "metadata": {
        "id": "rrvaZG_L_Gwc"
      }
    },
    {
      "cell_type": "markdown",
      "source": [
        "#Theory Questions"
      ],
      "metadata": {
        "id": "J2gBitHG_S0D"
      }
    },
    {
      "cell_type": "markdown",
      "source": [
        "1. What is the difference between interpreted and compiled languages?"
      ],
      "metadata": {
        "id": "E0fXxaPd_mCF"
      }
    },
    {
      "cell_type": "markdown",
      "source": [
        "Compiled and interpreted languages differ in how they turn our code into something the computer can actually run.\n",
        "\n",
        "In compiled languages, the entire code is translated into machine language (binary) all at once by a special program called a compiler. This happens before the program is run. Think of it like translating a whole book from one language to another before giving it to someone to read. Once it's compiled, the program runs faster because everything is already in the language the computer understands. Examples of compiled languages are C, C++, and Go.\n",
        "\n",
        "In contrast, interpreted languages don't translate everything in advance. Instead, they use an interpreter to read and execute the code line by line while the program is running. It's like having a translator whisper each line to us as our read the original book. This makes them easier to test and debug but can slow down performance. Python, JavaScript, and Ruby are common examples of interpreted languages."
      ],
      "metadata": {
        "id": "fzZt1U04_q4t"
      }
    },
    {
      "cell_type": "markdown",
      "source": [
        "2. What is exception handling in Python?"
      ],
      "metadata": {
        "id": "JOTXaudyBKYD"
      }
    },
    {
      "cell_type": "markdown",
      "source": [
        "Exception handling in Python is a way to gracefully manage errors that occur during the execution of your code—so our program doesn’t crash unexpectedly.\n",
        "\n",
        "An exception is an event that disrupts the normal flow of a program. It usually happens when something goes wrong, like dividing by zero, accessing a missing file, or using an invalid value.\n",
        "\n",
        "Python uses a special structure called a try-except block to catch and respond to exceptions:\n",
        "\n",
        "\n",
        "\n",
        "```\n",
        "try:\n",
        "    # Code that might raise an exception\n",
        "    result = 10 / 0\n",
        "except ZeroDivisionError:\n",
        "    # Code that runs if the exception occurs\n",
        "    print(\"You can't divide by zero!\")\n",
        "\n",
        "```\n",
        "In this example, instead of crashing, Python catches the ZeroDivisionError and prints a friendly message."
      ],
      "metadata": {
        "id": "HLBTOcBqBPsq"
      }
    },
    {
      "cell_type": "markdown",
      "source": [
        "3. What is the purpose of the finally block in exception handling?"
      ],
      "metadata": {
        "id": "By7LLxaxB0ti"
      }
    },
    {
      "cell_type": "markdown",
      "source": [
        "The finally block in Python serves a very specific and important purpose in exception handling: it ensures that certain code always runs, no matter what happens in the try or except blocks.\n",
        "\n",
        "Guaranteed execution: Whether an exception is raised or not, the code inside the finally block will execute. This makes it ideal for tasks that must be completed—like closing files, releasing resources, or cleaning up temporary data.\n",
        "\n",
        "Resource management: If our program opens a file, connects to a database, or allocates memory, the finally block ensures those resources are properly released—even if something goes wrong.\n",
        "\n",
        "Consistency: It helps maintain a predictable flow in your program. You know that cleanup or final steps will always happen, which makes debugging and maintenance easier.\n",
        "\n",
        "```\n",
        "try:\n",
        "    file = open(\"data.txt\", \"r\")\n",
        "    content = file.read()\n",
        "except FileNotFoundError:\n",
        "    print(\"File not found.\")\n",
        "finally:\n",
        "    file.close()\n",
        "    print(\"File closed.\")\n",
        "\n",
        "```\n",
        "\n"
      ],
      "metadata": {
        "id": "ycvl-qrMB3vh"
      }
    },
    {
      "cell_type": "markdown",
      "source": [
        "4. What is logging in Python?"
      ],
      "metadata": {
        "id": "TrX9x6V5CQc2"
      }
    },
    {
      "cell_type": "markdown",
      "source": [
        "Logging in Python is a built-in way to track events and messages that happen while our code runs. Instead of using print() statements for debugging, Python’s logging module gives us a more powerful and flexible system to record what's going on—whether it's for debugging, monitoring, or auditing.\n",
        "\n",
        "Why Use Logging?\n",
        "\n",
        "Helps us understand program flow\n",
        "\n",
        "Captures errors and warnings without crashing our app\n",
        "\n",
        "Keeps a record of events for future analysis\n",
        "\n",
        "Allows different levels of importance (like DEBUG, INFO, WARNING, ERROR, CRITICAL)\n",
        "\n",
        "\n",
        "```\n",
        "import logging\n",
        "\n",
        "logging.basicConfig(level=logging.INFO)\n",
        "logging.info(\"Program started\")\n",
        "\n",
        "```\n",
        "This will output:\n",
        "\n",
        "\n",
        "```\n",
        "INFO:root:Program started\n",
        "```\n",
        "\n",
        "\n"
      ],
      "metadata": {
        "id": "MrfUgBKOCTb5"
      }
    },
    {
      "cell_type": "markdown",
      "source": [
        "5. What is the significance of the __del__ method in Python?"
      ],
      "metadata": {
        "id": "VuLe9mN_C9wF"
      }
    },
    {
      "cell_type": "markdown",
      "source": [
        "The __del__ method in Python is a special method known as a destructor. Its main purpose is to define cleanup actions that should occur when an object is about to be destroyed by Python’s garbage collector\n",
        "\n",
        "Automatic resource cleanup:\n",
        "\n",
        "If your object holds external resources like file handles, network connections, or database links, __del__ can help release them when the object is no longer needed.\n",
        "\n",
        "Encapsulation of cleanup logic:\n",
        "\n",
        "Instead of requiring manual cleanup, you can embed it directly in the object’s lifecycle.\n",
        "\n",
        "Fallback mechanism:\n",
        "\n",
        "It acts as a safety net if the programmer forgets to explicitly release resources.\n",
        "\n",
        "\n",
        "```\n",
        "class FileHandler:\n",
        "    def __init__(self, filename):\n",
        "        self.file = open(filename, 'w')\n",
        "        self.file.write(\"Hello, world!\")\n",
        "\n",
        "    def __del__(self):\n",
        "        print(\"Closing file...\")\n",
        "        self.file.close()\n",
        "\n",
        "```\n",
        "\n"
      ],
      "metadata": {
        "id": "rLKzcLigDCcC"
      }
    },
    {
      "cell_type": "markdown",
      "source": [
        "6. What is the difference between import and from ... import in Python?"
      ],
      "metadata": {
        "id": "WbzG856_Dd4d"
      }
    },
    {
      "cell_type": "markdown",
      "source": [
        "In Python, both import and from ... import are used to bring in external modules or specific components from those modules—but they work a bit differently.\n",
        "\n",
        "When we use import module_name, we're bringing in the entire module. To access anything inside it, we need to prefix it with the module name.\n",
        "\n",
        "\n",
        "```\n",
        "import math\n",
        "print(math.sqrt(25))  # Accessing sqrt via the module name\n",
        "```\n",
        "This lets us import specific parts of a module directly into our current namespace. We don’t need to use the module name as a prefix.\n",
        "\n",
        "\n",
        "```\n",
        "from math import sqrt\n",
        "print(sqrt(25))  # Direct access to sqrt\n",
        "\n",
        "```\n",
        "Key Differences:\n",
        "\n",
        "\n",
        "- import gives you access to everything in the module, but you must use the module name to access its contents.\n",
        "\n",
        "- from ... import pulls specific items into your namespace, which can make code shorter—but also risk name clashes if multiple modules have functions with the same name.\n",
        "\n"
      ],
      "metadata": {
        "id": "eIwKCZcbDjer"
      }
    },
    {
      "cell_type": "markdown",
      "source": [
        "7.  How can you handle multiple exceptions in Python?"
      ],
      "metadata": {
        "id": "3xP-qf9zEbCD"
      }
    },
    {
      "cell_type": "markdown",
      "source": [
        "In Python, we can handle multiple exceptions using a few different techniques depending on how you want your program to respond. Here's a breakdown of the most common approaches:\n",
        "\n",
        "1. Multiple except Blocks\n",
        "\n",
        "We use separate except clauses for each exception type if you want to handle them differently:\n",
        "\n",
        "\n",
        "```\n",
        "try:\n",
        "    value = int(input(\"Enter a number: \"))\n",
        "    result = 10 / value\n",
        "except ValueError:\n",
        "    print(\"That's not a valid number.\")\n",
        "except ZeroDivisionError:\n",
        "    print(\"You can't divide by zero.\")\n",
        "\n",
        "```\n",
        "2. Single except Block for Multiple Exceptions\n",
        "\n",
        "If we want to handle several exceptions the same way, group them in a tuple:\n",
        "\n",
        "\n",
        "\n",
        "```\n",
        "try:\n",
        "    value = int(input(\"Enter a number: \"))\n",
        "    result = 10 / value\n",
        "except (ValueError, ZeroDivisionError) as e:\n",
        "    print(f\"An error occurred: {e}\")\n",
        "\n",
        "```\n",
        "3. Using Exception Hierarchies\n",
        "\n",
        "Some exceptions share a common base class. You can catch the base class to handle all related errors:\n",
        "\n",
        "\n",
        "```\n",
        "try:\n",
        "    with open(\"file.txt\") as f:\n",
        "        data = f.read()\n",
        "except OSError:\n",
        "    print(\"File-related error occurred.\")\n",
        "\n",
        "```\n",
        "This catches FileNotFoundError, PermissionError, and others under OSError.\n",
        "\n",
        "4. Using else and finally\n",
        "\n",
        "You can combine exception handling with else and finally for more control:\n",
        "\n",
        "\n",
        "```\n",
        "try:\n",
        "    value = int(input(\"Enter a number: \"))\n",
        "    result = 10 / value\n",
        "except (ValueError, ZeroDivisionError) as e:\n",
        "    print(f\"Error: {e}\")\n",
        "else:\n",
        "    print(f\"Result is {result}\")\n",
        "finally:\n",
        "    print(\"Execution finished.\")\n",
        "\n",
        "```\n",
        "else runs if no exception occurs.\n",
        "\n",
        "finally runs no matter what—perfect for cleanup.\n",
        "\n",
        "\n",
        "\n"
      ],
      "metadata": {
        "id": "LAZh1mBrEckh"
      }
    },
    {
      "cell_type": "markdown",
      "source": [
        "8.  What is the purpose of the with statement when handling files in Python?"
      ],
      "metadata": {
        "id": "FSYyvYsBRlFa"
      }
    },
    {
      "cell_type": "markdown",
      "source": [
        "The with statement in Python is used to simplify file handling by ensuring that resources like files are properly managed—opened, used, and closed—without requiring manual cleanup.\n",
        "\n",
        "When we open a file using open(), we normally have to remember to close it using file.close(). If an error occurs before that line runs, the file might stay open, leading to resource leaks or locked files. The with statement solves this by automatically closing the file when we're done—even if an exception is raised.\n",
        "\n",
        "\n",
        "```\n",
        "with open(\"data.txt\", \"r\") as file:\n",
        "    content = file.read()\n",
        "    print(content)\n",
        "# File is automatically closed here\n",
        "\n",
        "```\n",
        "\n"
      ],
      "metadata": {
        "id": "YWz2ZXhURsPd"
      }
    },
    {
      "cell_type": "markdown",
      "source": [
        "9. What is the difference between multithreading and multiprocessing?"
      ],
      "metadata": {
        "id": "nQ7vMOVbaRFn"
      }
    },
    {
      "cell_type": "markdown",
      "source": [
        "Multithreading and multiprocessing are both techniques used to achieve concurrent execution, but they differ in how they manage tasks and system resources.\n",
        "\n",
        "Multithreading involves running multiple threads within a single process. These threads share the same memory space and resources, which makes communication between them fast and efficient.\n",
        "\n",
        "\n",
        "\n",
        "*   Best for I/O-bound tasks (like reading files or network operations)\n",
        "*   Threads are lightweight and quicker to create\n",
        "*   Shares memory, so synchronization is needed to avoid conflicts\n",
        "*   Limited by Python’s Global Interpreter Lock (GIL), meaning only one thread executes Python bytecode at a time\n",
        "\n",
        "Multiprocessing runs multiple processes, each with its own memory space. These processes don’t share memory directly, which avoids GIL limitations and allows true parallelism.\n",
        "\n",
        "\n",
        "*   Ideal for CPU-bound tasks (like heavy computations)\n",
        "*   Each process runs independently on separate cores\n",
        "*   More memory-intensive and slower to start than threads\n",
        "*   Requires inter-process communication (IPC) for data sharing\n"
      ],
      "metadata": {
        "id": "jhIenWyKaWM6"
      }
    },
    {
      "cell_type": "markdown",
      "source": [
        "10. What are the advantages of using logging in a program?"
      ],
      "metadata": {
        "id": "A2u1nmKsbC5g"
      }
    },
    {
      "cell_type": "markdown",
      "source": [
        "Logging offers a ton of advantages that go way beyond just debugging. It’s like giving our program a voice—so when something goes wrong (or right), we know exactly what happened and when. Here’s why logging is such a powerful tool:\n",
        "\n",
        "\n",
        "1.   Easier Debugging\n",
        "\n",
        "Instead of guessing what went wrong, logs give you a clear trail of events. We can trace errors, exceptions, and unexpected behavior without needing to reproduce the issue manually.\n",
        "2.   Performance Monitoring\n",
        "\n",
        "Logs help us analyze how our program performs over time. We can track slow operations, bottlenecks, and resource usage—especially useful in production environments.\n",
        "3.   Security & Auditing\n",
        "\n",
        "Logging user actions, access attempts, and system changes helps detect suspicious behavior and maintain accountability. It’s essential for compliance and forensic analysis.\n",
        "4.   Troubleshooting in Production\n",
        "\n",
        "When our app is live, we can’t just attach a debugger. Logs become our eyes and ears, helping you diagnose issues without interrupting service."
      ],
      "metadata": {
        "id": "Egtt2Bi1bKNs"
      }
    },
    {
      "cell_type": "markdown",
      "source": [
        "11. What is memory management in Python?"
      ],
      "metadata": {
        "id": "gKmWwyc8czQB"
      }
    },
    {
      "cell_type": "markdown",
      "source": [
        "Memory management in Python refers to how the language automatically allocates, tracks, and frees memory during program execution. It’s one of the reasons Python is so beginner-friendly—we don’t have to manually manage memory like in C or C++.\n",
        "\n",
        "Here’s how Python handles it behind the scenes:\n",
        "\n",
        "All Python objects and data structures are stored in a private heap, which is managed internally by the Python interpreter. You don’t directly access this heap, but Python uses it to store everything from integers to complex objects.\n",
        "\n",
        "Every object in Python keeps track of how many references point to it. When that count drops to zero—meaning no part of your program is using it anymore—Python knows it can safely delete the object.\n",
        "\n",
        "```\n",
        "import sys\n",
        "x = \"hello\"\n",
        "print(sys.getrefcount(x))  # Shows how many references exist\n",
        "```\n",
        "Python also has a garbage collector to clean up objects that reference each other in a cycle (which reference counting alone can’t handle). It runs periodically to free up memory from unused objects.\n"
      ],
      "metadata": {
        "id": "_y2OtpyDdfnW"
      }
    },
    {
      "cell_type": "markdown",
      "source": [
        "12. What are the basic steps involved in exception handling in Python?"
      ],
      "metadata": {
        "id": "hbdcGiiierW8"
      }
    },
    {
      "cell_type": "markdown",
      "source": [
        "Exception handling in Python follows a structured flow that helps you catch and respond to errors gracefully. Here are the basic steps involved:\n",
        "\n",
        "\n",
        "1.   Identify Risky Code\n",
        "\n",
        "Start by pinpointing the part of your code that might raise an exception—like dividing by zero, opening a missing file, or converting a string to an integer.\n",
        "2.   Use a try Block\n",
        "\n",
        "Wrap the risky code inside a try block. This tells Python: “Try to run this, but be ready if something goes wrong.”\n",
        "\n",
        "\n",
        "```\n",
        "try:\n",
        "    result = 10 / 0\n",
        "```\n",
        "3. Catch Exceptions with except\n",
        "\n",
        "Follow the try block with one or more except blocks to handle specific errors. You can catch multiple types of exceptions separately or together.\n",
        "\n",
        "\n",
        "```\n",
        "except ZeroDivisionError:\n",
        "    print(\"You can't divide by zero.\")\n",
        "```\n",
        "4. Optional else Block\n",
        "\n",
        "If no exception occurs, the else block runs. It’s useful for code that should only execute when everything goes smoothly.\n",
        "\n",
        "\n",
        "```\n",
        "else:\n",
        "    print(\"Division successful.\")\n",
        "\n",
        "```\n",
        "5. Always Run finally Block\n",
        "\n",
        "The finally block runs no matter what—whether an exception was raised or not. It’s perfect for cleanup tasks like closing files or releasing resources.\n",
        "\n",
        "\n",
        "```\n",
        "finally:\n",
        "    print(\"Execution complete.\")\n",
        "```"
      ],
      "metadata": {
        "id": "_GDOqT8hetS4"
      }
    },
    {
      "cell_type": "markdown",
      "source": [
        "13. Why is memory management important in Python?"
      ],
      "metadata": {
        "id": "0-tG4LEFfsdK"
      }
    },
    {
      "cell_type": "markdown",
      "source": [
        "Memory management in Python is crucial because it directly affects your program’s performance, scalability, and reliability. Here’s why it matters:\n",
        "\n",
        "1. Efficient Resource Usage\n",
        "\n",
        "\n",
        "Python automatically allocates and frees memory using techniques like reference counting and garbage collection. This helps prevent memory leaks and ensures your program doesn’t hog system resources unnecessarily.\n",
        "2. Performance Optimization\n",
        "\n",
        "Poor memory handling can slow down your application or even crash it. By understanding how Python manages memory—especially with large data structures—you can write code that runs faster and uses less RAM.\n",
        "3. Preventing Memory Leaks\n",
        "\n",
        "Even though Python handles memory automatically, issues like circular references can still cause leaks. Knowing how memory is managed helps you avoid these pitfalls and keep your app stable over time.\n",
        "4. Scalability\n",
        "\n",
        "As your application grows, efficient memory usage becomes more important. Whether you're building a data-heavy app or running code in resource-constrained environments, good memory management ensures your program scales smoothly.\n",
        "5. Better Debugging & Profiling\n",
        "\n",
        "Understanding memory behavior helps you use tools like gc, sys.getsizeof(), and memory_profiler to track down inefficiencies and optimize your code."
      ],
      "metadata": {
        "id": "1rafrx4WfyJ9"
      }
    },
    {
      "cell_type": "markdown",
      "source": [
        "14. What is the role of try and except in exception handling?"
      ],
      "metadata": {
        "id": "1mle_bIfq2Ch"
      }
    },
    {
      "cell_type": "markdown",
      "source": [
        "In Python, the try and except blocks are the backbone of exception handling, allowing our program to respond to errors without crashing.\n",
        "\n",
        "try: Where You Take a Risk\n",
        "\n",
        "The try block contains code that might raise an exception. Python attempts to execute this code, and if everything goes smoothly, it moves on. But if crashing.\n",
        "\n",
        "try: Where You Take a Risk\n",
        "\n",
        "The try block contains code that might raise an exception. Python attempts to execute this code, and if everything goes smoothly, it moves on. But if something goes wrong something goes wrong—like dividing by—like dividing by zero or accessing a missing file—it immediately jumps zero or accessing a missing file—it immediately jumps to the except block.\n",
        "\n",
        "\n",
        "```\n",
        "try:\n",
        "    result to the `except` block.\n",
        "\n",
        "```python\n",
        "try:\n",
        "    result = 10 / 0\n",
        "```"
      ],
      "metadata": {
        "id": "XerXYGpDq5mb"
      }
    },
    {
      "cell_type": "markdown",
      "source": [
        "15. How does Python's garbage collection system work?"
      ],
      "metadata": {
        "id": "Rq5lhQqOskhC"
      }
    },
    {
      "cell_type": "markdown",
      "source": [
        "Python’s garbage collection system is like an invisible janitor that quietly keeps our program’s memory clean and efficient. It works through two main mechanisms: reference counting and generational garbage collection.\n",
        "\n",
        "Reference Counting\n",
        "Every object in Python tracks how many references point to it. When that count drops to zero—meaning no part of your code is using it anymore—Python automatically deallocates the object.\n",
        "\n",
        "Example:\n",
        "\n",
        "```\n",
        "import sys\n",
        "x = [1, 2, 3]\n",
        "print(sys.getrefcount(x))  # Shows how many references exist\n",
        "```\n",
        "But reference counting alone can’t handle cyclic references—like when two objects refer to each other. Their counts never reach zero, so they stick around unnecessarily.\n"
      ],
      "metadata": {
        "id": "5k9X-3MLsmV_"
      }
    },
    {
      "cell_type": "markdown",
      "source": [
        "16. What is the purpose of the else block in exception handling?"
      ],
      "metadata": {
        "id": "T2l57LWmtffq"
      }
    },
    {
      "cell_type": "markdown",
      "source": [
        "The else block in Python’s exception handling is designed to run only if no exceptions occur in the try block. It’s a way to separate our “normal” code from our “error-handling” code, making things cleaner and more intentional.\n",
        "\n",
        "\n",
        "*   It keeps your try block focused on risky operations—like file access, division, or type conversion.\n",
        "*   It ensures that non-error logic (like printing results or continuing execution) only runs when everything goes smoothly.\n",
        "*   It avoids accidentally catching exceptions from code that shouldn’t be in the try block.\n",
        "\n",
        "\n",
        "```\n",
        "try:\n",
        "    num = int(input(\"Enter a number: \"))\n",
        "    result = 10 / num\n",
        "except ValueError:\n",
        "    print(\"Invalid input.\")\n",
        "except ZeroDivisionError:\n",
        "    print(\"Cannot divide by zero.\")\n",
        "else:\n",
        "    print(f\"Result is: {result}\")\n",
        "```\n",
        "Here, the else block prints the result only if no exceptions were raised. If an error occurs, it’s handled in the except blocks, and the else block is skipped."
      ],
      "metadata": {
        "id": "VMCRUYgMtj9e"
      }
    },
    {
      "cell_type": "markdown",
      "source": [
        "17. What are the common logging levels in Python?"
      ],
      "metadata": {
        "id": "KGnLjgf8uBtN"
      }
    },
    {
      "cell_type": "markdown",
      "source": [
        "In Python, the logging module provides five common logging levels, each representing a different degree of severity or importance. These levels help you control what kind of messages get recorded or displayed during program execution:\n",
        "\n",
        "DEBUG – Used for detailed diagnostic information. Ideal during development to trace code execution and internal states.\n",
        "\n",
        "INFO – Confirms that things are working as expected. Great for general runtime events like starting a service or completing a task.\n",
        "\n",
        "WARNING – Indicates something unexpected happened, or a potential issue is looming. The program still runs, but we should take note.\n",
        "\n",
        "ERROR – A serious problem occurred that prevented part of the program from functioning properly.\n",
        "\n",
        "CRITICAL – A very severe error that may cause the program to terminate or become unstable.\n",
        "\n",
        "Each level has a numeric value behind the scenes:\n",
        "\n",
        "DEBUG = 10\n",
        "\n",
        "INFO = 20\n",
        "\n",
        "WARNING = 30\n",
        "\n",
        "ERROR = 40\n",
        "\n",
        "CRITICAL = 50\n",
        "\n",
        "These values help Python filter messages based on the configured logging level. For example, if we set the level to WARNING, only WARNING, ERROR, and CRITICAL messages will be shown."
      ],
      "metadata": {
        "id": "8yxU7DnZuEvy"
      }
    },
    {
      "cell_type": "markdown",
      "source": [
        "18. What is the difference between os.fork() and multiprocessing in Python?"
      ],
      "metadata": {
        "id": "WCc3S1kIuhGK"
      }
    },
    {
      "cell_type": "markdown",
      "source": [
        "The difference between os.fork() and the multiprocessing module in Python comes down to level of abstraction, portability, and safety.\n",
        "\n",
        "os.fork(): Low-Level Process Creation\n",
        "Directly calls the operating system’s fork() system call.\n",
        "\n",
        "Creates a child process that is an exact copy of the parent, including memory and file descriptors.\n",
        "\n",
        "Only available on Unix-like systems (Linux, macOS). Not supported on Windows.\n",
        "\n",
        "Fast due to copy-on-write, but risky in multithreaded programs—can lead to deadlocks or inconsistent states2.\n",
        "\n",
        "Requires manual handling of inter-process communication and resource cleanup.\n",
        "\n",
        "multiprocessing: High-Level Abstraction\n",
        "Built-in Python module that abstracts away the complexity of process creation.\n",
        "\n",
        "Works across platforms, including Windows and Unix.\n",
        "\n",
        "Uses different start methods (fork, spawn, forkserver) depending on the OS:\n",
        "\n",
        "fork: fast but less safe (Unix)\n",
        "\n",
        "spawn: safer, starts fresh interpreter (Windows/macOS)\n",
        "\n",
        "Provides tools for data sharing, communication, and synchronization (e.g., Queue, Pipe, Value, Array)3.\n",
        "\n",
        "Safer and more flexible for general-purpose parallelism.\n",
        "\n",
        "- Use os.fork() if we need fine-grained control and are working on a Unix system.\n",
        "\n",
        "- Use multiprocessing for cross-platform compatibility, safety, and ease of use."
      ],
      "metadata": {
        "id": "huhCh8aRulWE"
      }
    },
    {
      "cell_type": "markdown",
      "source": [
        "19. What is the importance of closing a file in Python?"
      ],
      "metadata": {
        "id": "ejPGu1eyu6r4"
      }
    },
    {
      "cell_type": "markdown",
      "source": [
        "Closing a file in Python is essential for maintaining data integrity, system stability, and clean resource management. Here's why it matters:\n",
        "\n",
        "1. Frees System Resources\n",
        "\n",
        "When you open a file, Python allocates system resources like memory buffers and file handles. If you don’t close the file, those resources remain tied up, which can lead to performance issues or even system crashes—especially if many files are left open\n",
        "2. Ensures Data Is Saved\n",
        "\n",
        "For files opened in write or append mode, data is often buffered in memory. Closing the file flushes this buffer, ensuring all changes are written to disk. If we skip this step, we risk losing unsaved data\n",
        "3. Prevents File Locking Issues\n",
        "\n",
        "On some operating systems (like Windows), an open file may be locked, preventing other programs or users from accessing it. Closing the file releases the lock, allowing others to read or modify it\n",
        "4. Avoids Hitting File Limits\n",
        "\n",
        "Operating systems limit how many files a process can have open at once. If we don’t close files, we might hit this limit and get errors like “Too many open files\n",
        "5. Promotes Good Coding Practice\n",
        "\n",
        "Explicitly closing files (or using a with statement) makes our code more readable, predictable, and easier to debug. It shows you’re managing resources responsibly and reduces reliance on Python’s garbage collecto"
      ],
      "metadata": {
        "id": "RqSen04Du94G"
      }
    },
    {
      "cell_type": "markdown",
      "source": [
        "20. What is the difference between file.read() and file.readline() in Python?"
      ],
      "metadata": {
        "id": "CIq-2gxPv4qo"
      }
    },
    {
      "cell_type": "markdown",
      "source": [
        "The difference between file.read() and file.readline() in Python lies in how much data they read and how they handle file content:\n",
        "\n",
        "file.read()\n",
        "Reads the entire file as a single string (or a specified number of characters if you pass an argument).\n",
        "\n",
        "Useful when you want to load all content at once.\n",
        "\n",
        "Can be memory-intensive for large files since it loads everything into memory.\n",
        "\n",
        "\n",
        "```\n",
        "with open(\"data.txt\", \"r\") as f:\n",
        "    content = f.read()\n",
        "    print(content)  # Prints the whole file\n",
        "```\n",
        "file.readline()\n",
        "Reads just one line from the file at a time, up to the newline character (\\n).\n",
        "\n",
        "Returns a string containing that line.\n",
        "\n",
        "Ideal for processing large files line by line without overloading memory.\n",
        "\n",
        "\n",
        "```\n",
        "with open(\"data.txt\", \"r\") as f:\n",
        "    first_line = f.readline()\n",
        "    print(first_line)  # Prints only the first line\n",
        "```\n",
        "So, if we're working with a small file and want everything at once, read() is fine. But for large files or line-by-line processing, readline() is the smarter choice.\n",
        "\n"
      ],
      "metadata": {
        "id": "KOf04LoBv7w7"
      }
    },
    {
      "cell_type": "markdown",
      "source": [
        "21. What is the logging module in Python used for?"
      ],
      "metadata": {
        "id": "a5K2Wsc7kkzQ"
      }
    },
    {
      "cell_type": "markdown",
      "source": [
        "The logging module in Python is used to record messages and events that happen during the execution of a program. It’s like giving our code a diary—it keeps track of what’s going on, which is incredibly helpful for debugging, monitoring, and maintaining your application.\n",
        "\n",
        "Tracks runtime behavior: We can log what our program is doing at any moment.\n",
        "\n",
        "Captures errors and warnings: Instead of crashing silently, our app can log what went wrong.\n",
        "\n",
        "Supports multiple levels of severity: From detailed debugging info to critical failure alerts.\n",
        "\n",
        "Works across modules: We can log messages from different parts of your app in a unified way."
      ],
      "metadata": {
        "id": "Zr6sE6f4lOBS"
      }
    },
    {
      "cell_type": "markdown",
      "source": [
        "22. What is the os module in Python used for in file handling?"
      ],
      "metadata": {
        "id": "LYENr7hkmAhY"
      }
    },
    {
      "cell_type": "markdown",
      "source": [
        "The os module in Python is a powerful tool for interacting with the operating system, especially when it comes to file and directory management. It provides a wide range of functions that go beyond basic file reading and writing—allowing you to manipulate the file system at a deeper level."
      ],
      "metadata": {
        "id": "_Vhm11PDmxce"
      }
    },
    {
      "cell_type": "markdown",
      "source": [
        "23. What are the challenges associated with memory management in Python?"
      ],
      "metadata": {
        "id": "BXR0tfgum6Z6"
      }
    },
    {
      "cell_type": "markdown",
      "source": [
        "Python’s memory management system is powerful and automatic, but it’s not without its quirks. Here are some of the key challenges developers often face:\n",
        "\n",
        "1. Memory Leaks\n",
        "\n",
        "Even though Python uses reference counting and garbage collection, memory leaks can still occur—especially with circular references or lingering global variables. If objects reference each other and aren’t properly cleaned up, they stay in memory longer than needed.\n",
        "2. Fragmentation\n",
        "\n",
        "Over time, memory can become fragmented, especially in long-running applications. This happens when memory blocks are allocated and freed in irregular patterns, leaving behind unusable gaps. Fragmentation can reduce performance and increase memory usage.\n",
        "3. Cyclic References\n",
        "\n",
        "Python’s garbage collector handles cycles, but it doesn’t run constantly. If cycles aren’t collected promptly, they can cause delayed memory release, which affects responsiveness in real-time systems\n",
        "4. Performance Overhead\n",
        "\n",
        "Automatic memory management introduces overhead, especially during garbage collection cycles. These pauses can impact performance in latency-sensitive applications like games or real-time analytics\n",
        "5. Lack of Manual Control\n",
        "\n",
        "Unlike C or C++, Python doesn’t allow manual memory allocation or deallocation. While this simplifies development, it also means we have less control over memory behavior, which can be limiting in high-performance scenario.\n",
        "6. Multiprocessing Memory Duplication\n",
        "\n",
        "When using the multiprocessing module, each process has its own memory space. This can lead to duplicated memory usage, especially when sharing large datasets across processes.\n",
        "7. Inefficient Data Structures\n",
        "\n",
        "Using the wrong data structure—like a list when a set or array would be more efficient—can lead to excessive memory consumption. Python’s flexibility sometimes tempts developers to use memory-heavy structures without realizing the cost"
      ],
      "metadata": {
        "id": "IYIAJxG5m-vz"
      }
    },
    {
      "cell_type": "markdown",
      "source": [
        "24. How do you raise an exception manually in Python?"
      ],
      "metadata": {
        "id": "B-YZ3TVhn4bs"
      }
    },
    {
      "cell_type": "markdown",
      "source": [
        "In Python, we can manually raise an exception using the raise keyword. This is useful when we want to signal that something has gone wrong—even if Python hasn’t detected it automatically.\n",
        "\n",
        "\n",
        "```\n",
        "raise ExceptionType(\"Custom error message\")\n",
        "```\n",
        "We replace ExceptionType with a built-in exception like ValueError, TypeError, or even a custom exception class.\n",
        "\n",
        "\n",
        "```\n",
        "def divide(a, b):\n",
        "    if b == 0:\n",
        "        raise ZeroDivisionError(\"Cannot divide by zero\")\n",
        "    return a / b\n",
        "\n",
        "```\n",
        "If b is zero, this function raises a ZeroDivisionError with a custom message.\n",
        "\n"
      ],
      "metadata": {
        "id": "G4NZp2gvn8HX"
      }
    },
    {
      "cell_type": "markdown",
      "source": [
        "25. Why is it important to use multithreading in certain applications?"
      ],
      "metadata": {
        "id": "R8I-QfMuocwF"
      }
    },
    {
      "cell_type": "markdown",
      "source": [
        "Multithreading is important in certain applications because it allows programs to do more at once, making them faster, more responsive, and better at handling complex tasks. Here’s why it matters:\n",
        "1. Improved Performance\n",
        "\n",
        "Multithreading lets different parts of a program run simultaneously. For example, while one thread downloads data, another can process it—speeding up execution and reducing wait times\n",
        "2. Better Resource Utilization\n",
        "\n",
        "Modern CPUs have multiple cores. Multithreading helps your program use all cores efficiently, rather than leaving some idle. This boosts performance, especially in data-heavy or real-time applications\n",
        "3. Enhanced Responsiveness\n",
        "\n",
        "In user-facing applications like web browsers or games, multithreading keeps the interface responsive. One thread can handle user input while others load images or process background tasks\n",
        "4. Scalability\n",
        "\n",
        "Multithreading makes it easier to scale applications—especially servers or systems that handle many users or requests. Threads can manage tasks independently, improving throughput and reliability\n",
        "5. Efficient I/O Handling\n",
        "\n",
        "When waiting for slow operations like file reads or network responses, multithreading lets us program keep working instead of freezing. This is crucial for apps that rely on external data sources"
      ],
      "metadata": {
        "id": "Ram-GNc7og94"
      }
    },
    {
      "cell_type": "markdown",
      "source": [
        "# Practical Questions"
      ],
      "metadata": {
        "id": "emonc8TjqkNe"
      }
    },
    {
      "cell_type": "markdown",
      "source": [
        "1. How can you open a file for writing in Python and write a string to it?"
      ],
      "metadata": {
        "id": "UsWrV0UjqoYr"
      }
    },
    {
      "cell_type": "markdown",
      "source": [
        "To open a file for writing in Python and write a string to it, we can use the built-in open() function along with the write() method. Here's the basic process:\n",
        "1. Open the file in write mode (\"w\"):\n",
        "\n",
        "- If the file doesn’t exist, Python will create it.\n",
        "\n",
        "- If it does exist, its contents will be overwritten.\n",
        "2. Use the write() method to add your string.\n",
        "\n",
        "3. Close the file to ensure the data is saved and resources are released."
      ],
      "metadata": {
        "id": "iEQpdOxJq4vL"
      }
    },
    {
      "cell_type": "code",
      "source": [
        "# Open the file in write mode\n",
        "with open(\"example.txt\", \"w\") as file:\n",
        "    # Write a string to the file\n",
        "    file.write(\"Hello! This is our first file-writing adventure in Python.\")\n"
      ],
      "metadata": {
        "id": "ikDi11eHrEjk"
      },
      "execution_count": null,
      "outputs": []
    },
    {
      "cell_type": "markdown",
      "source": [
        "2. Write a Python program to read the contents of a file and print each line."
      ],
      "metadata": {
        "id": "5L3uHBFLrMsz"
      }
    },
    {
      "cell_type": "code",
      "source": [
        "# Open the file in read mode\n",
        "with open(\"example.txt\", \"r\") as file:\n",
        "    # Loop through each line in the file\n",
        "    for line in file:\n",
        "        print(line.strip())  # strip() removes the newline character\n"
      ],
      "metadata": {
        "id": "yiz96lf-rOSF"
      },
      "execution_count": null,
      "outputs": []
    },
    {
      "cell_type": "markdown",
      "source": [
        "3. How would you handle a case where the file doesn't exist while trying to open it for reading?"
      ],
      "metadata": {
        "id": "7Bsq4ZNErS3F"
      }
    },
    {
      "cell_type": "markdown",
      "source": [
        "When we're trying to open a file for reading in Python and it doesn't exist, the program will raise a FileNotFoundError. To handle this gracefully, we can use a try-except block to catch the error and respond appropriately."
      ],
      "metadata": {
        "id": "lvU2bz9DreV3"
      }
    },
    {
      "cell_type": "code",
      "source": [
        "try:\n",
        "    with open(\"data.txt\", \"r\") as file:\n",
        "        content = file.read()\n",
        "        print(content)\n",
        "except FileNotFoundError:\n",
        "    print(\"Oops! The file 'data.txt' was not found.\")\n"
      ],
      "metadata": {
        "id": "T1vdICVyrjOl"
      },
      "execution_count": null,
      "outputs": []
    },
    {
      "cell_type": "markdown",
      "source": [
        "4. Write a Python script that reads from one file and writes its content to another file."
      ],
      "metadata": {
        "id": "Rqp9xeAvrkB5"
      }
    },
    {
      "cell_type": "code",
      "source": [
        "# Open the source file in read mode and the destination file in write mode\n",
        "with open(\"source.txt\", \"r\") as source_file, open(\"destination.txt\", \"w\") as destination_file:\n",
        "    # Read each line from the source and write it to the destination\n",
        "    for line in source_file:\n",
        "        destination_file.write(line)\n"
      ],
      "metadata": {
        "colab": {
          "base_uri": "https://localhost:8080/",
          "height": 211
        },
        "id": "6bMsfMd6rtdJ",
        "outputId": "8a577723-cf8d-42c0-8a00-7ab148de2667"
      },
      "execution_count": null,
      "outputs": [
        {
          "output_type": "error",
          "ename": "FileNotFoundError",
          "evalue": "[Errno 2] No such file or directory: 'source.txt'",
          "traceback": [
            "\u001b[0;31m---------------------------------------------------------------------------\u001b[0m",
            "\u001b[0;31mFileNotFoundError\u001b[0m                         Traceback (most recent call last)",
            "\u001b[0;32m/tmp/ipython-input-3-3046271186.py\u001b[0m in \u001b[0;36m<cell line: 0>\u001b[0;34m()\u001b[0m\n\u001b[1;32m      1\u001b[0m \u001b[0;31m# Open the source file in read mode and the destination file in write mode\u001b[0m\u001b[0;34m\u001b[0m\u001b[0;34m\u001b[0m\u001b[0m\n\u001b[0;32m----> 2\u001b[0;31m \u001b[0;32mwith\u001b[0m \u001b[0mopen\u001b[0m\u001b[0;34m(\u001b[0m\u001b[0;34m\"source.txt\"\u001b[0m\u001b[0;34m,\u001b[0m \u001b[0;34m\"r\"\u001b[0m\u001b[0;34m)\u001b[0m \u001b[0;32mas\u001b[0m \u001b[0msource_file\u001b[0m\u001b[0;34m,\u001b[0m \u001b[0mopen\u001b[0m\u001b[0;34m(\u001b[0m\u001b[0;34m\"destination.txt\"\u001b[0m\u001b[0;34m,\u001b[0m \u001b[0;34m\"w\"\u001b[0m\u001b[0;34m)\u001b[0m \u001b[0;32mas\u001b[0m \u001b[0mdestination_file\u001b[0m\u001b[0;34m:\u001b[0m\u001b[0;34m\u001b[0m\u001b[0;34m\u001b[0m\u001b[0m\n\u001b[0m\u001b[1;32m      3\u001b[0m     \u001b[0;31m# Read each line from the source and write it to the destination\u001b[0m\u001b[0;34m\u001b[0m\u001b[0;34m\u001b[0m\u001b[0m\n\u001b[1;32m      4\u001b[0m     \u001b[0;32mfor\u001b[0m \u001b[0mline\u001b[0m \u001b[0;32min\u001b[0m \u001b[0msource_file\u001b[0m\u001b[0;34m:\u001b[0m\u001b[0;34m\u001b[0m\u001b[0;34m\u001b[0m\u001b[0m\n\u001b[1;32m      5\u001b[0m         \u001b[0mdestination_file\u001b[0m\u001b[0;34m.\u001b[0m\u001b[0mwrite\u001b[0m\u001b[0;34m(\u001b[0m\u001b[0mline\u001b[0m\u001b[0;34m)\u001b[0m\u001b[0;34m\u001b[0m\u001b[0;34m\u001b[0m\u001b[0m\n",
            "\u001b[0;31mFileNotFoundError\u001b[0m: [Errno 2] No such file or directory: 'source.txt'"
          ]
        }
      ]
    },
    {
      "cell_type": "markdown",
      "source": [
        "5. How would you catch and handle division by zero error in Python?"
      ],
      "metadata": {
        "id": "e8dmcTk_r0nA"
      }
    },
    {
      "cell_type": "markdown",
      "source": [
        "We can catch and handle a division by zero error using a try-except block. This prevents your program from crashing and lets you respond gracefully when a ZeroDivisionError occurs."
      ],
      "metadata": {
        "id": "Mrztuf_1r782"
      }
    },
    {
      "cell_type": "code",
      "source": [
        "try:\n",
        "    result = 10 / 0\n",
        "except ZeroDivisionError:\n",
        "    print(\"Oops! You can't divide by zero.\")\n"
      ],
      "metadata": {
        "colab": {
          "base_uri": "https://localhost:8080/"
        },
        "id": "Ltb3VBhor-J_",
        "outputId": "57ea8d7d-c9df-4079-816f-ca05169f8132"
      },
      "execution_count": null,
      "outputs": [
        {
          "output_type": "stream",
          "name": "stdout",
          "text": [
            "Oops! You can't divide by zero.\n"
          ]
        }
      ]
    },
    {
      "cell_type": "markdown",
      "source": [
        "6.  Write a Python program that logs an error message to a log file when a division by zero exception occurs."
      ],
      "metadata": {
        "id": "mDB_hGbWsA2K"
      }
    },
    {
      "cell_type": "code",
      "source": [
        "import logging\n",
        "\n",
        "# Configure logging to write to a file\n",
        "logging.basicConfig(\n",
        "    filename='error_log.txt',\n",
        "    level=logging.ERROR,\n",
        "    format='%(asctime)s - %(levelname)s - %(message)s'\n",
        ")\n",
        "\n",
        "def safe_divide(a, b):\n",
        "    try:\n",
        "        return a / b\n",
        "    except ZeroDivisionError as e:\n",
        "        logging.error(\"Attempted to divide by zero: %s\", e)\n",
        "        return None\n",
        "\n",
        "# Example usage\n",
        "result = safe_divide(10, 0)\n",
        "print(\"Result:\", result)\n"
      ],
      "metadata": {
        "colab": {
          "base_uri": "https://localhost:8080/"
        },
        "id": "u60Ne-SJsEAU",
        "outputId": "5feec239-015c-492a-868f-c9c1c877e4dd"
      },
      "execution_count": null,
      "outputs": [
        {
          "output_type": "stream",
          "name": "stderr",
          "text": [
            "ERROR:root:Attempted to divide by zero: division by zero\n"
          ]
        },
        {
          "output_type": "stream",
          "name": "stdout",
          "text": [
            "Result: None\n"
          ]
        }
      ]
    },
    {
      "cell_type": "markdown",
      "source": [
        "7. How do you log information at different levels (INFO, ERROR, WARNING) in Python using the logging module?"
      ],
      "metadata": {
        "id": "lxtH45pwsKFL"
      }
    },
    {
      "cell_type": "markdown",
      "source": [
        "To log information at different levels in Python using the logging module, we first need to configure the logger and then use the appropriate logging methods for each level."
      ],
      "metadata": {
        "id": "-iFnPmIosXBH"
      }
    },
    {
      "cell_type": "code",
      "source": [
        "import logging\n",
        "\n",
        "# Configure the logging system\n",
        "logging.basicConfig(\n",
        "    filename='app.log',               # Log output file\n",
        "    level=logging.DEBUG,              # Minimum level to capture\n",
        "    format='%(asctime)s - %(levelname)s - %(message)s'\n",
        ")\n",
        "\n",
        "# Log messages at different levels\n",
        "logging.debug(\"This is a DEBUG message\")     # Detailed diagnostic info\n",
        "logging.info(\"This is an INFO message\")      # General runtime events\n",
        "logging.warning(\"This is a WARNING message\") # Something unexpected\n",
        "logging.error(\"This is an ERROR message\")    # Serious issue\n",
        "logging.critical(\"This is a CRITICAL message\") # Severe error\n"
      ],
      "metadata": {
        "colab": {
          "base_uri": "https://localhost:8080/"
        },
        "id": "rAE3wK5xsdg_",
        "outputId": "81f90008-ab0c-47b2-a4bf-6f9de3d692b7"
      },
      "execution_count": null,
      "outputs": [
        {
          "output_type": "stream",
          "name": "stderr",
          "text": [
            "WARNING:root:This is a WARNING message\n",
            "ERROR:root:This is an ERROR message\n",
            "CRITICAL:root:This is a CRITICAL message\n"
          ]
        }
      ]
    },
    {
      "cell_type": "markdown",
      "source": [
        "8. Write a program to handle a file opening error using exception handling."
      ],
      "metadata": {
        "id": "Oxi5qrDVsi7f"
      }
    },
    {
      "cell_type": "code",
      "source": [
        "# Attempt to open a file and handle errors if it fails\n",
        "def read_file(filename):\n",
        "    try:\n",
        "        with open(filename, \"r\") as file:\n",
        "            content = file.read()\n",
        "            print(\"File content:\\n\", content)\n",
        "    except FileNotFoundError:\n",
        "        print(f\"Error: The file '{filename}' was not found.\")\n",
        "    except PermissionError:\n",
        "        print(f\"Error: You don't have permission to access '{filename}'.\")\n",
        "    except Exception as e:\n",
        "        print(f\"An unexpected error occurred: {e}\")\n",
        "\n",
        "# Example usage\n",
        "read_file(\"missing_file.txt\")\n"
      ],
      "metadata": {
        "colab": {
          "base_uri": "https://localhost:8080/"
        },
        "id": "W-cwFFG0smDM",
        "outputId": "14de040a-2dee-448e-da7b-edf70d606374"
      },
      "execution_count": null,
      "outputs": [
        {
          "output_type": "stream",
          "name": "stdout",
          "text": [
            "Error: The file 'missing_file.txt' was not found.\n"
          ]
        }
      ]
    },
    {
      "cell_type": "markdown",
      "source": [
        "9. How can you read a file line by line and store its content in a list in Python?"
      ],
      "metadata": {
        "id": "GJmKYMLCsrtd"
      }
    },
    {
      "cell_type": "markdown",
      "source": [
        "1. Using readlines()"
      ],
      "metadata": {
        "id": "iRAMXh7xs3CT"
      }
    },
    {
      "cell_type": "code",
      "source": [
        "with open(\"example.txt\", \"r\") as file:\n",
        "    lines = file.readlines()\n"
      ],
      "metadata": {
        "id": "lVFeqeTLs372"
      },
      "execution_count": null,
      "outputs": []
    },
    {
      "cell_type": "markdown",
      "source": [
        "- Returns a list where each item is a line from the file (including \\n).\n",
        "\n",
        "- Best for small to medium-sized files."
      ],
      "metadata": {
        "id": "n7XTPuHCs8z4"
      }
    },
    {
      "cell_type": "markdown",
      "source": [
        "2. Using List Comprehension"
      ],
      "metadata": {
        "id": "Jwc4S8fCs_ml"
      }
    },
    {
      "cell_type": "code",
      "source": [
        "with open(\"example.txt\", \"r\") as file:\n",
        "    lines = [line.strip() for line in file]\n"
      ],
      "metadata": {
        "id": "gwWw0yibtDbn"
      },
      "execution_count": null,
      "outputs": []
    },
    {
      "cell_type": "markdown",
      "source": [
        "- Removes trailing newline characters.\n",
        "\n",
        "- Clean and memory-efficient for line-by-line processing."
      ],
      "metadata": {
        "id": "KcEceWnztGo2"
      }
    },
    {
      "cell_type": "markdown",
      "source": [
        "3. Using map() Function"
      ],
      "metadata": {
        "id": "6hrhPNCYtLqN"
      }
    },
    {
      "cell_type": "code",
      "source": [
        "with open(\"example.txt\", \"r\") as file:\n",
        "    lines = list(map(str.strip, file))\n"
      ],
      "metadata": {
        "id": "wECAHgYUtMsF"
      },
      "execution_count": null,
      "outputs": []
    },
    {
      "cell_type": "markdown",
      "source": [
        "- Similar to list comprehension, but uses functional programming style."
      ],
      "metadata": {
        "id": "VelG38sStPma"
      }
    },
    {
      "cell_type": "markdown",
      "source": [
        "4. Using a Loop"
      ],
      "metadata": {
        "id": "jeJdamgdtQrI"
      }
    },
    {
      "cell_type": "code",
      "source": [
        "lines = []\n",
        "with open(\"example.txt\", \"r\") as file:\n",
        "    for line in file:\n",
        "        lines.append(line.strip())\n"
      ],
      "metadata": {
        "id": "YgU5xyF-tUf8"
      },
      "execution_count": null,
      "outputs": []
    },
    {
      "cell_type": "markdown",
      "source": [
        "- Gives you more control if you want to process each line differently."
      ],
      "metadata": {
        "id": "Vi1Dx01btXdj"
      }
    },
    {
      "cell_type": "markdown",
      "source": [
        "10. How can you append data to an existing file in Python?"
      ],
      "metadata": {
        "id": "rUCT6j9_taU2"
      }
    },
    {
      "cell_type": "markdown",
      "source": [
        "To append data to an existing file in Python, we simply open the file in append mode using \"a\" or \"a+\", and then write to it. This ensures that new content is added to the end of the file without overwriting anything.\n",
        "\n",
        "1. Using write()\n",
        "```\n",
        "with open(\"example.txt\", \"a\") as file:\n",
        "    file.write(\"\\nThis is a new line of text.\")\n",
        "```\n",
        "\n",
        "\n",
        "- \"a\" mode opens the file for appending.\n",
        "\n",
        "- \\n ensures the new text starts on a new line.\n",
        "\n",
        "- If the file doesn’t exist, Python will create it automatically.\n",
        "2. Appending Multiple Lines with writelines()\n",
        "\n",
        "\n",
        "```\n",
        "lines = [\"\\nPython is powerful.\", \"\\nAppending data is easy.\"]\n",
        "with open(\"example.txt\", \"a\") as file:\n",
        "    file.writelines(lines)\n",
        "\n",
        "```\n",
        "- writelines() writes each string in the list to the file.\n",
        "\n",
        "- You must include \\n manually if you want line breaks\n",
        "3. Appending User Input\n",
        "\n",
        "```\n",
        "user_input = input(\"Enter text to append: \")\n",
        "with open(\"example.txt\", \"a\") as file:\n",
        "    file.write(\"\\n\" + user_input)\n",
        "\n",
        "```\n",
        "- Dynamically adds user input to the file\n",
        "4. Appending a Timestamp\n",
        "\n",
        "\n",
        "```\n",
        "from datetime import datetime\n",
        "\n",
        "timestamp = datetime.now().strftime(\"%Y-%m-%d %H:%M:%S\")\n",
        "with open(\"log.txt\", \"a\") as file:\n",
        "    file.write(f\"\\nLog Entry: {timestamp}\")\n",
        "\n",
        "```\n",
        "- Useful for logging events or tracking script runs\n",
        "\n"
      ],
      "metadata": {
        "id": "Lxy0kCeKtj5_"
      }
    },
    {
      "cell_type": "markdown",
      "source": [
        "11. Write a Python program that uses a try-except block to handle an error when attempting to access a\n",
        "dictionary key that doesn't exist."
      ],
      "metadata": {
        "id": "5BfEbSOruoYC"
      }
    },
    {
      "cell_type": "code",
      "source": [
        "# Define a sample dictionary\n",
        "student_grades = {\n",
        "    \"Alice\": 85,\n",
        "    \"Bob\": 92,\n",
        "    \"Charlie\": 78\n",
        "}\n",
        "\n",
        "# Attempt to access a key that may not exist\n",
        "try:\n",
        "    grade = student_grades[\"David\"]  # 'David' is not in the dictionary\n",
        "    print(f\"Sutrina's grade is {grade}\")\n",
        "except KeyError:\n",
        "    print(\"Error: 'Sutrina' is not found in the student_grades dictionary.\")\n"
      ],
      "metadata": {
        "colab": {
          "base_uri": "https://localhost:8080/"
        },
        "id": "CGRtaEVPvB0T",
        "outputId": "3a9193f0-69f7-482b-9ed0-f042f24a9a78"
      },
      "execution_count": null,
      "outputs": [
        {
          "output_type": "stream",
          "name": "stdout",
          "text": [
            "Error: 'Sutrina' is not found in the student_grades dictionary.\n"
          ]
        }
      ]
    },
    {
      "cell_type": "markdown",
      "source": [
        "12. Write a program that demonstrates using multiple except blocks to handle different types of exceptions."
      ],
      "metadata": {
        "id": "JvPX7A0qvJ4z"
      }
    },
    {
      "cell_type": "code",
      "source": [
        "def process_input():\n",
        "    try:\n",
        "        # Get user input and convert to integer\n",
        "        num = int(input(\"Enter a number: \"))\n",
        "\n",
        "        # Perform division\n",
        "        result = 100 / num\n",
        "\n",
        "        # Access a dictionary key\n",
        "        data = {\"name\": \"Sutrina\"}\n",
        "        print(\"Your name is:\", data[\"name\"])\n",
        "\n",
        "        print(\"Result of division:\", result)\n",
        "\n",
        "    except ValueError:\n",
        "        print(\"Error: You must enter a valid integer.\")\n",
        "\n",
        "    except ZeroDivisionError:\n",
        "        print(\"Error: Division by zero is not allowed.\")\n",
        "\n",
        "    except KeyError:\n",
        "        print(\"Error: The specified key was not found in the dictionary.\")\n",
        "\n",
        "    except Exception as e:\n",
        "        print(f\"Unexpected error occurred: {e}\")\n",
        "\n",
        "# Run the function\n",
        "process_input()\n"
      ],
      "metadata": {
        "colab": {
          "base_uri": "https://localhost:8080/"
        },
        "id": "ERG4DT_vvRDq",
        "outputId": "6a3dc282-0e60-4c44-fd08-36291755c4d8"
      },
      "execution_count": null,
      "outputs": [
        {
          "output_type": "stream",
          "name": "stdout",
          "text": [
            "Enter a number: 2\n",
            "Your name is: Sutrina\n",
            "Result of division: 50.0\n"
          ]
        }
      ]
    },
    {
      "cell_type": "markdown",
      "source": [
        "13.  How would you check if a file exists before attempting to read it in Python?"
      ],
      "metadata": {
        "id": "XdS4tpYzvVqT"
      }
    },
    {
      "cell_type": "markdown",
      "source": [
        "1. Using os.path.exists()\n",
        "\n",
        "\n",
        "```\n",
        "import os\n",
        "\n",
        "file_path = \"example.txt\"\n",
        "if os.path.exists(file_path):\n",
        "    with open(file_path, \"r\") as file:\n",
        "        content = file.read()\n",
        "        print(content)\n",
        "else:\n",
        "    print(\"File does not exist.\")\n",
        "\n",
        "```\n",
        "2. Using os.path.isfile()\n",
        "\n",
        "```\n",
        "import os\n",
        "\n",
        "file_path = \"example.txt\"\n",
        "if os.path.isfile(file_path):\n",
        "    with open(file_path, \"r\") as file:\n",
        "        print(file.read())\n",
        "else:\n",
        "    print(\"File is missing or not a regular file.\")\n",
        "\n",
        "```\n",
        "3. Using pathlib.Path\n",
        "\n",
        "\n",
        "```\n",
        "from pathlib import Path\n",
        "\n",
        "file_path = Path(\"example.txt\")\n",
        "if file_path.is_file():\n",
        "    print(file_path.read_text())\n",
        "else:\n",
        "    print(\"File does not exist.\")\n",
        "\n",
        "```\n",
        "\n",
        "\n",
        "\n",
        "\n"
      ],
      "metadata": {
        "id": "pL9QMFUWvfNQ"
      }
    },
    {
      "cell_type": "markdown",
      "source": [
        "14. Write a program that uses the logging module to log both informational and error messages."
      ],
      "metadata": {
        "id": "28iDVo76vzz6"
      }
    },
    {
      "cell_type": "code",
      "source": [
        "import logging\n",
        "\n",
        "# Configure logging to write to a file with timestamp and severity level\n",
        "logging.basicConfig(\n",
        "    filename='app.log',\n",
        "    level=logging.DEBUG,  # Captures all levels: DEBUG and above\n",
        "    format='%(asctime)s - %(levelname)s - %(message)s'\n",
        ")\n",
        "\n",
        "def process_data(data):\n",
        "    logging.info(\"Starting data processing\")\n",
        "    try:\n",
        "        result = 100 / data  # Risky operation\n",
        "        logging.info(f\"Processing successful. Result: {result}\")\n",
        "    except ZeroDivisionError as e:\n",
        "        logging.error(\"Division by zero error occurred: %s\", e)\n",
        "    except Exception as e:\n",
        "        logging.error(\"Unexpected error: %s\", e)\n",
        "\n",
        "# Example usage\n",
        "process_data(25)   # Logs INFO\n",
        "process_data(0)    # Logs ERROR\n",
        "process_data(\"a\")  # Logs ERROR due to TypeError\n"
      ],
      "metadata": {
        "colab": {
          "base_uri": "https://localhost:8080/"
        },
        "id": "68fzWVT6v1LY",
        "outputId": "7a61823d-0440-46e1-be87-0d37c650f1cb"
      },
      "execution_count": null,
      "outputs": [
        {
          "output_type": "stream",
          "name": "stderr",
          "text": [
            "ERROR:root:Division by zero error occurred: division by zero\n",
            "ERROR:root:Unexpected error: unsupported operand type(s) for /: 'int' and 'str'\n"
          ]
        }
      ]
    },
    {
      "cell_type": "markdown",
      "source": [
        "15. Write a Python program that prints the content of a file and handles the case when the file is empty."
      ],
      "metadata": {
        "id": "CKg-oCbxv7tX"
      }
    },
    {
      "cell_type": "code",
      "source": [
        "import os\n",
        "\n",
        "def print_file_content(file_path):\n",
        "    try:\n",
        "        # Check if the file exists\n",
        "        if not os.path.isfile(file_path):\n",
        "            print(f\"Error: File '{file_path}' does not exist.\")\n",
        "            return\n",
        "\n",
        "        # Check if the file is empty\n",
        "        if os.path.getsize(file_path) == 0:\n",
        "            print(f\"Notice: File '{file_path}' is empty.\")\n",
        "            return\n",
        "\n",
        "        # Read and print the file content\n",
        "        with open(file_path, \"r\") as file:\n",
        "            print(\"File Content:\")\n",
        "            for line in file:\n",
        "                print(line.strip())\n",
        "\n",
        "    except Exception as e:\n",
        "        print(f\"An unexpected error occurred: {e}\")\n",
        "\n",
        "# Example usage\n",
        "print_file_content(\"example.txt\")\n"
      ],
      "metadata": {
        "colab": {
          "base_uri": "https://localhost:8080/"
        },
        "id": "tXQkB5fqwFhl",
        "outputId": "b8d5e34b-fbdb-4d26-9a2e-8605bc6f5964"
      },
      "execution_count": null,
      "outputs": [
        {
          "output_type": "stream",
          "name": "stdout",
          "text": [
            "File Content:\n",
            "Hello! This is our first file-writing adventure in Python.\n"
          ]
        }
      ]
    },
    {
      "cell_type": "markdown",
      "source": [
        "16. Demonstrate how to use memory profiling to check the memory usage of a small program."
      ],
      "metadata": {
        "id": "c6on4MLCwMn1"
      }
    },
    {
      "cell_type": "markdown",
      "source": [
        "Install memory_profiler\n",
        "\n",
        "\n",
        "```\n",
        "pip install memory_profiler\n",
        "\n",
        "```\n",
        "Write a Sample Program\n",
        "Create a file called memory_demo.py:\n",
        "\n",
        "\n",
        "```\n",
        "from memory_profiler import profile\n",
        "\n",
        "@profile\n",
        "def allocate_memory():\n",
        "    a = [i for i in range(10000)]         # List of integers\n",
        "    b = [i ** 2 for i in range(10000)]    # List of squares\n",
        "    return a, b\n",
        "\n",
        "if __name__ == \"__main__\":\n",
        "    allocate_memory()\n",
        "\n",
        "```\n",
        "Run the Profiler\n",
        "\n",
        "```\n",
        "python -m memory_profiler memory_demo.py\n",
        "\n",
        "```\n",
        "Visualize with matplotlib\n",
        "\n",
        "```\n",
        "pip install matplotlib\n",
        "\n",
        "```\n",
        "\n",
        "\n",
        "\n",
        "\n",
        "\n",
        "\n"
      ],
      "metadata": {
        "id": "Skej692SwVNE"
      }
    },
    {
      "cell_type": "markdown",
      "source": [
        "17. Write a Python program to create and write a list of numbers to a file, one number per line."
      ],
      "metadata": {
        "id": "MRruUugCwsrU"
      }
    },
    {
      "cell_type": "code",
      "source": [
        "# Create a list of numbers\n",
        "numbers = [10, 20, 30, 40, 50]\n",
        "\n",
        "# Open the file in write mode\n",
        "with open(\"numbers.txt\", \"w\") as file:\n",
        "    for number in numbers:\n",
        "        file.write(f\"{number}\\n\")  # Write each number followed by a newline\n"
      ],
      "metadata": {
        "id": "3j1s-wd8wvXc"
      },
      "execution_count": null,
      "outputs": []
    },
    {
      "cell_type": "markdown",
      "source": [
        "18. How would you implement a basic logging setup that logs to a file with rotation after 1MB?"
      ],
      "metadata": {
        "id": "zgfu2fx6w3hm"
      }
    },
    {
      "cell_type": "markdown",
      "source": [
        "To implement a basic logging setup in Python that logs to a file and rotates after it reaches 1MB, we can use the built-in RotatingFileHandler from the logging.handlers module. Here's a clean and functional example:"
      ],
      "metadata": {
        "id": "U6DktRAexRzh"
      }
    },
    {
      "cell_type": "code",
      "source": [
        "import logging\n",
        "from logging.handlers import RotatingFileHandler\n",
        "\n",
        "# Create a logger\n",
        "logger = logging.getLogger(\"my_logger\")\n",
        "logger.setLevel(logging.DEBUG)  # Capture all levels\n",
        "\n",
        "# Create a rotating file handler\n",
        "handler = RotatingFileHandler(\n",
        "    \"app.log\",           # Log file name\n",
        "    maxBytes=1_000_000,  # Rotate after 1MB\n",
        "    backupCount=5        # Keep up to 5 backup files\n",
        ")\n",
        "\n",
        "# Set a formatter\n",
        "formatter = logging.Formatter('%(asctime)s - %(levelname)s - %(message)s')\n",
        "handler.setFormatter(formatter)\n",
        "\n",
        "# Add the handler to the logger\n",
        "logger.addHandler(handler)\n",
        "\n",
        "# Example log messages\n",
        "logger.info(\"Application started\")\n",
        "logger.warning(\"This is a warning\")\n",
        "logger.error(\"Something went wrong\")\n"
      ],
      "metadata": {
        "colab": {
          "base_uri": "https://localhost:8080/"
        },
        "id": "OqDXKpiXxWuC",
        "outputId": "04947f62-08b9-4f95-b903-7dee7005d877"
      },
      "execution_count": 1,
      "outputs": [
        {
          "output_type": "stream",
          "name": "stderr",
          "text": [
            "INFO:my_logger:Application started\n",
            "WARNING:my_logger:This is a warning\n",
            "ERROR:my_logger:Something went wrong\n"
          ]
        }
      ]
    },
    {
      "cell_type": "markdown",
      "source": [
        "19. Write a program that handles both IndexError and KeyError using a try-except block."
      ],
      "metadata": {
        "id": "7QOvbwpAxfwR"
      }
    },
    {
      "cell_type": "code",
      "source": [
        "def handle_exceptions():\n",
        "    my_list = [1, 2, 3]\n",
        "    my_dict = {\"name\": \"Sutrina\", \"language\": \"Python\"}\n",
        "\n",
        "    try:\n",
        "        # Attempt to access an out-of-range index\n",
        "        print(\"List item:\", my_list[5])\n",
        "    except IndexError:\n",
        "        print(\"Error: Tried to access an index that doesn't exist in the list.\")\n",
        "\n",
        "    try:\n",
        "        # Attempt to access a missing dictionary key\n",
        "        print(\"Favorite IDE:\", my_dict[\"IDE\"])\n",
        "    except KeyError:\n",
        "        print(\"Error: Tried to access a key that doesn't exist in the dictionary.\")\n",
        "\n",
        "# Run the function\n",
        "handle_exceptions()\n"
      ],
      "metadata": {
        "colab": {
          "base_uri": "https://localhost:8080/"
        },
        "id": "s8r_rM_qxrx_",
        "outputId": "5ee430fe-5305-4cfc-e7d1-47ea09cdead0"
      },
      "execution_count": 2,
      "outputs": [
        {
          "output_type": "stream",
          "name": "stdout",
          "text": [
            "Error: Tried to access an index that doesn't exist in the list.\n",
            "Error: Tried to access a key that doesn't exist in the dictionary.\n"
          ]
        }
      ]
    },
    {
      "cell_type": "markdown",
      "source": [
        "20. How would you open a file and read its contents using a context manager in Python?"
      ],
      "metadata": {
        "id": "ZuPSvsH3xtvz"
      }
    },
    {
      "cell_type": "markdown",
      "source": [
        "To open a file and read its contents using a context manager in Python, we use the with statement along with the built-in open() function. This ensures the file is automatically closed after we're done reading—even if an error occurs.\n",
        "\n",
        "\n",
        "```\n",
        "with open(\"example.txt\", \"r\") as file:\n",
        "    for line in file:\n",
        "        print(line.strip())\n",
        "\n",
        "```\n",
        "- \"r\" mode opens the file for reading.\n",
        "\n",
        "- strip() removes trailing newline characters.\n",
        "\n",
        "- The file is closed automatically when the block ends.\n",
        "\n",
        "\n",
        "```\n",
        "with open(\"example.txt\", \"r\") as file:\n",
        "    content = file.read()\n",
        "    print(content)\n",
        "\n",
        "```\n",
        "- read() loads the entire file into a string.\n",
        "\n",
        "- Best for small files where memory usage isn’t a concern.\n",
        "\n",
        "\n",
        "```\n",
        "with open(\"example.txt\", \"r\") as file:\n",
        "    lines = file.readlines()\n",
        "    print(lines)\n",
        "\n",
        "```\n",
        "- readlines() returns a list where each item is a line from the file.\n",
        "\n",
        "\n",
        "\n",
        "\n"
      ],
      "metadata": {
        "id": "hstxkXCqyBgZ"
      }
    },
    {
      "cell_type": "markdown",
      "source": [
        "21. Write a Python program that reads a file and prints the number of occurrences of a specific word."
      ],
      "metadata": {
        "id": "lyCuRi8EzHhD"
      }
    },
    {
      "cell_type": "code",
      "source": [
        "def count_word_occurrences(file_path, target_word):\n",
        "    try:\n",
        "        with open(file_path, \"r\") as file:\n",
        "            content = file.read().lower()  # Case-insensitive search\n",
        "            words = content.split()\n",
        "            count = words.count(target_word.lower())\n",
        "            print(f\"The word '{target_word}' occurs {count} times in '{file_path}'.\")\n",
        "    except FileNotFoundError:\n",
        "        print(f\"Error: File '{file_path}' not found.\")\n",
        "    except Exception as e:\n",
        "        print(f\"An unexpected error occurred: {e}\")\n",
        "\n",
        "# Example usage\n",
        "count_word_occurrences(\"example.txt\", \"python\")\n"
      ],
      "metadata": {
        "colab": {
          "base_uri": "https://localhost:8080/"
        },
        "id": "s6JALAVnzOjU",
        "outputId": "90099b7f-304d-404d-c11a-b09b3ebfe66b"
      },
      "execution_count": 3,
      "outputs": [
        {
          "output_type": "stream",
          "name": "stdout",
          "text": [
            "Error: File 'example.txt' not found.\n"
          ]
        }
      ]
    },
    {
      "cell_type": "markdown",
      "source": [
        "22. How can you check if a file is empty before attempting to read its contents?"
      ],
      "metadata": {
        "id": "s-ZAX-hmzUc3"
      }
    },
    {
      "cell_type": "markdown",
      "source": [
        "1. Using os.path.getsize()\n",
        "\n",
        "\n",
        "```\n",
        "import os\n",
        "\n",
        "file_path = \"example.txt\"\n",
        "if os.path.getsize(file_path) == 0:\n",
        "    print(\"File is empty.\")\n",
        "else:\n",
        "    with open(file_path, \"r\") as file:\n",
        "        print(file.read())\n",
        "\n",
        "```\n",
        "2. Using os.stat()\n",
        "\n",
        "\n",
        "```\n",
        "import os\n",
        "\n",
        "file_path = \"example.txt\"\n",
        "if os.stat(file_path).st_size == 0:\n",
        "    print(\"File is empty.\")\n",
        "else:\n",
        "    with open(file_path, \"r\") as file:\n",
        "        print(file.read())\n",
        "\n",
        "```\n",
        "3. Using file.read(1)\n",
        "\n",
        "\n",
        "```\n",
        "try:\n",
        "    with open(\"example.txt\", \"r\") as file:\n",
        "        first_char = file.read(1)\n",
        "        if not first_char:\n",
        "            print(\"File is empty.\")\n",
        "        else:\n",
        "            file.seek(0)\n",
        "            print(file.read())\n",
        "except FileNotFoundError:\n",
        "    print(\"File not found.\")\n",
        "\n",
        "```\n",
        "Using pathlib\n",
        "\n",
        "\n",
        "```\n",
        "from pathlib import Path\n",
        "\n",
        "file_path = Path(\"example.txt\")\n",
        "if file_path.exists() and file_path.stat().st_size == 0:\n",
        "    print(\"File is empty.\")\n",
        "else:\n",
        "    print(file_path.read_text())\n",
        "\n",
        "```\n",
        "\n",
        "\n",
        "\n",
        "\n",
        "\n"
      ],
      "metadata": {
        "id": "HGaZ47Uxzmll"
      }
    },
    {
      "cell_type": "markdown",
      "source": [
        "23. Write a Python program that writes to a log file when an error occurs during file handling."
      ],
      "metadata": {
        "id": "IHmsouyU0Fb7"
      }
    },
    {
      "cell_type": "code",
      "source": [
        "import logging\n",
        "\n",
        "# Configure logging to write error messages to a log file\n",
        "logging.basicConfig(\n",
        "    filename='file_errors.log',\n",
        "    level=logging.ERROR,\n",
        "    format='%(asctime)s - %(levelname)s - %(message)s'\n",
        ")\n",
        "\n",
        "def read_file(file_path):\n",
        "    try:\n",
        "        with open(file_path, \"r\") as file:\n",
        "            content = file.read()\n",
        "            print(\"File content:\\n\", content)\n",
        "    except FileNotFoundError as e:\n",
        "        logging.error(\"File not found: %s\", file_path)\n",
        "        print(f\"Error: The file '{file_path}' does not exist.\")\n",
        "    except PermissionError as e:\n",
        "        logging.error(\"Permission denied for file: %s\", file_path)\n",
        "        print(f\"Error: Permission denied for '{file_path}'.\")\n",
        "    except Exception as e:\n",
        "        logging.error(\"Unexpected error while handling file '%s': %s\", file_path, e)\n",
        "        print(f\"An unexpected error occurred: {e}\")\n",
        "\n",
        "# Example usage\n",
        "read_file(\"missing_file.txt\")\n"
      ],
      "metadata": {
        "colab": {
          "base_uri": "https://localhost:8080/"
        },
        "id": "X7j4yMqR0Q1B",
        "outputId": "4d2f245a-f131-4942-864b-60f0a0298942"
      },
      "execution_count": 4,
      "outputs": [
        {
          "output_type": "stream",
          "name": "stderr",
          "text": [
            "ERROR:root:File not found: missing_file.txt\n"
          ]
        },
        {
          "output_type": "stream",
          "name": "stdout",
          "text": [
            "Error: The file 'missing_file.txt' does not exist.\n"
          ]
        }
      ]
    }
  ]
}